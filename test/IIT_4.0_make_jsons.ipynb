{
 "cells": [
  {
   "cell_type": "code",
   "execution_count": 1,
   "id": "2636ae3c",
   "metadata": {
    "id": "2636ae3c",
    "tags": []
   },
   "outputs": [
    {
     "name": "stdout",
     "output_type": "stream",
     "text": [
      "\n",
      "Welcome to PyPhi!\n",
      "\n",
      "If you use PyPhi in your research, please cite the paper:\n",
      "\n",
      "  Mayner WGP, Marshall W, Albantakis L, Findlay G, Marchman R, Tononi G.\n",
      "  (2018). PyPhi: A toolbox for integrated information theory.\n",
      "  PLOS Computational Biology 14(7): e1006343.\n",
      "  https://doi.org/10.1371/journal.pcbi.1006343\n",
      "\n",
      "Documentation is available online (or with the built-in `help()` function):\n",
      "  https://pyphi.readthedocs.io\n",
      "\n",
      "To report issues, please use the issue tracker on the GitHub repository:\n",
      "  https://github.com/wmayner/pyphi\n",
      "\n",
      "For general discussion, you are welcome to join the pyphi-users group:\n",
      "  https://groups.google.com/forum/#!forum/pyphi-users\n",
      "\n",
      "To suppress this message, either:\n",
      "  - Set `WELCOME_OFF: true` in your `pyphi_config.yml` file, or\n",
      "  - Set the environment variable PYPHI_WELCOME_OFF to any value in your shell:\n",
      "        export PYPHI_WELCOME_OFF='yes'\n",
      "\n"
     ]
    }
   ],
   "source": [
    "import pyphi\n",
    "import math\n",
    "import numpy as np\n",
    "import pytest\n",
    "\n",
    "from pyphi import jsonify\n",
    "from pyphi import new_big_phi"
   ]
  },
  {
   "cell_type": "code",
   "execution_count": 2,
   "id": "f023aea3-e8e9-40f2-9ac0-babbc3bad946",
   "metadata": {},
   "outputs": [
    {
     "data": {
      "text/plain": [
       "'2.0.0a1'"
      ]
     },
     "execution_count": 2,
     "metadata": {},
     "output_type": "execute_result"
    }
   ],
   "source": [
    "jsonify.PYPHI_VERSION"
   ]
  },
  {
   "cell_type": "code",
   "execution_count": 3,
   "id": "cd109435-4ce0-4cc8-b520-d8d7aa6c6d5b",
   "metadata": {},
   "outputs": [],
   "source": [
    "from pyphi.examples import EXAMPLES\n",
    "EXAMPLE_NAMES = [\"basic\", \"basic_noisy_selfloop\", \"fig4\", \"grid3\", \"xor\"]"
   ]
  },
  {
   "cell_type": "code",
   "execution_count": 4,
   "id": "bb184ec8-d04b-466b-861c-82ee2bb760c2",
   "metadata": {},
   "outputs": [],
   "source": [
    "%%capture\n",
    "basic_subsystem = EXAMPLES[\"subsystem\"][\"basic\"]()\n",
    "basic_phi_structure = new_big_phi.phi_structure(basic_subsystem)\n",
    "\n",
    "with open('data/phi_structure/basic.json', mode='wt') as f:\n",
    "    jsonify.dump(basic_phi_structure, f)\n",
    "\n",
    "with open(\"data/phi_structure/basic.json\") as f:\n",
    "    basic_phi_structure_loaded = jsonify.load(f)"
   ]
  },
  {
   "cell_type": "code",
   "execution_count": 5,
   "id": "b1d6cd29-d563-46ab-93c4-87ee78955b40",
   "metadata": {},
   "outputs": [],
   "source": [
    "assert basic_phi_structure_loaded == basic_phi_structure"
   ]
  },
  {
   "cell_type": "code",
   "execution_count": 6,
   "id": "0de6b6aa-4344-46d5-a0b4-7240fce40b21",
   "metadata": {},
   "outputs": [],
   "source": [
    "%%capture\n",
    "basic_noisy_selfloop_subsystem = EXAMPLES[\"subsystem\"][\"basic_noisy_selfloop\"]()\n",
    "basic_noisy_selfloop_phi_structure = new_big_phi.phi_structure(basic_noisy_selfloop_subsystem);\n",
    "\n",
    "with open('data/phi_structure/basic_noisy_selfloop.json', mode='wt') as f:\n",
    "    jsonify.dump(basic_noisy_selfloop_phi_structure, f)\n",
    "\n",
    "with open(\"data/phi_structure/basic_noisy_selfloop.json\") as f:\n",
    "    basic_noisy_selfloop_phi_structure_loaded = jsonify.load(f)"
   ]
  },
  {
   "cell_type": "code",
   "execution_count": 7,
   "id": "16d71b71-e52b-4675-aefc-efdbb6c8e823",
   "metadata": {},
   "outputs": [],
   "source": [
    "assert basic_noisy_selfloop_phi_structure_loaded == basic_noisy_selfloop_phi_structure"
   ]
  },
  {
   "cell_type": "code",
   "execution_count": 8,
   "id": "64eea639-2ca0-4b83-9501-63104dac2dab",
   "metadata": {},
   "outputs": [],
   "source": [
    "%%capture\n",
    "fig4_subsystem = EXAMPLES[\"subsystem\"][\"fig4\"]()\n",
    "fig4_phi_structure = new_big_phi.phi_structure(fig4_subsystem)\n",
    "\n",
    "with open('data/phi_structure/fig4.json', mode='wt') as f:\n",
    "    jsonify.dump(fig4_phi_structure, f)\n",
    "\n",
    "with open(\"data/phi_structure/fig4.json\") as f:\n",
    "    fig4_phi_structure_loaded = jsonify.load(f)"
   ]
  },
  {
   "cell_type": "code",
   "execution_count": 9,
   "id": "07ef5e5e-8fa1-437d-9347-e69c28136421",
   "metadata": {},
   "outputs": [],
   "source": [
    "assert fig4_phi_structure_loaded == fig4_phi_structure"
   ]
  },
  {
   "cell_type": "code",
   "execution_count": 10,
   "id": "8bd84291-7519-4de3-a815-6430c87c2e03",
   "metadata": {},
   "outputs": [],
   "source": [
    "%%capture\n",
    "grid3_subsystem = EXAMPLES[\"subsystem\"][\"grid3\"]()\n",
    "grid3_phi_structure = new_big_phi.phi_structure(grid3_subsystem)\n",
    "\n",
    "with open('data/phi_structure/grid3.json', mode='wt') as f:\n",
    "    jsonify.dump(grid3_phi_structure, f)\n",
    "\n",
    "with open(\"data/phi_structure/grid3.json\") as f:\n",
    "    grid3_phi_structure_loaded = jsonify.load(f)"
   ]
  },
  {
   "cell_type": "code",
   "execution_count": 11,
   "id": "d462d96a-86cf-4e0c-a5c8-1d36161464b5",
   "metadata": {},
   "outputs": [],
   "source": [
    "assert grid3_phi_structure_loaded == grid3_phi_structure"
   ]
  },
  {
   "cell_type": "code",
   "execution_count": 12,
   "id": "076f57bc-2df0-4fe6-a0f0-919828660453",
   "metadata": {},
   "outputs": [],
   "source": [
    "%%capture\n",
    "xor_subsystem = EXAMPLES[\"subsystem\"][\"xor\"]()\n",
    "xor_phi_structure = new_big_phi.phi_structure(xor_subsystem)\n",
    "\n",
    "with open('data/phi_structure/xor.json', mode='wt') as f:\n",
    "    jsonify.dump(xor_phi_structure, f)\n",
    "\n",
    "with open(\"data/phi_structure/xor.json\") as f:\n",
    "    xor_phi_structure_loaded = jsonify.load(f)"
   ]
  },
  {
   "cell_type": "code",
   "execution_count": 13,
   "id": "53fea956-1e43-452f-8992-3726e5f780e6",
   "metadata": {},
   "outputs": [],
   "source": [
    "assert xor_phi_structure_loaded == xor_phi_structure"
   ]
  },
  {
   "cell_type": "code",
   "execution_count": 14,
   "id": "f3dbaac8-9b26-4833-b31a-5704d8f5bdce",
   "metadata": {},
   "outputs": [],
   "source": [
    "%%capture\n",
    "rule110_subsystem = EXAMPLES[\"subsystem\"][\"rule110\"]()\n",
    "rule110_phi_structure = new_big_phi.phi_structure(rule110_subsystem)"
   ]
  },
  {
   "cell_type": "code",
   "execution_count": 15,
   "id": "627b1f9a-d7ed-472a-ac7f-057dd2a09eed",
   "metadata": {},
   "outputs": [],
   "source": [
    "%%capture\n",
    "NETWORKS = [\"grid3\", \"basic\", \"xor\", \"rule110\", \"fig4\"]\n",
    "\n",
    "grid3_ces = pyphi.compute.ces(grid3_subsystem)\n",
    "with open('data/relations/ces_grid3.json', mode=\"wt\") as f:\n",
    "        jsonify.dump(grid3_ces, f)\n",
    "with open('data/relations/ces_grid3.json', mode=\"rt\") as f:\n",
    "        grid3_ces_loaded = jsonify.load(f)\n",
    "\n",
    "basic_ces = pyphi.compute.ces(basic_subsystem)\n",
    "with open('data/relations/ces_basic.json', mode=\"wt\") as f:\n",
    "        jsonify.dump(basic_ces, f)\n",
    "with open('data/relations/ces_basic.json', mode=\"rt\") as f:\n",
    "        basic_ces_loaded = jsonify.load(f)\n",
    "\n",
    "xor_ces = pyphi.compute.ces(xor_subsystem)\n",
    "with open('data/relations/ces_xor.json', mode=\"wt\") as f:\n",
    "        jsonify.dump(xor_ces, f)\n",
    "with open('data/relations/ces_xor.json', mode=\"rt\") as f:\n",
    "        xor_ces_loaded = jsonify.load(f)\n",
    "\n",
    "rule110_ces = pyphi.compute.ces(rule110_subsystem)\n",
    "with open('data/relations/ces_rule110.json', mode=\"wt\") as f:\n",
    "        jsonify.dump(rule110_ces, f)\n",
    "with open('data/relations/ces_rule110.json', mode=\"rt\") as f:\n",
    "        rule110_ces_loaded = jsonify.load(f)\n",
    "\n",
    "fig4_ces = pyphi.compute.ces(fig4_subsystem)\n",
    "with open('data/relations/ces_fig4.json', mode=\"wt\") as f:\n",
    "        jsonify.dump(fig4_ces, f)\n",
    "with open('data/relations/ces_fig4.json', mode=\"rt\") as f:\n",
    "        fig4_ces_loaded = jsonify.load(f)"
   ]
  },
  {
   "cell_type": "code",
   "execution_count": 16,
   "id": "a98d2077-73e5-4a9e-81ec-2cffb9e8d359",
   "metadata": {},
   "outputs": [],
   "source": [
    "assert grid3_ces == grid3_ces_loaded\n",
    "assert basic_ces == basic_ces_loaded\n",
    "assert xor_ces == xor_ces_loaded\n",
    "assert rule110_ces == rule110_ces_loaded\n",
    "assert fig4_ces == fig4_ces_loaded"
   ]
  },
  {
   "cell_type": "code",
   "execution_count": 17,
   "id": "3342a973-31e0-4aeb-a07f-433b55f2fd94",
   "metadata": {},
   "outputs": [],
   "source": [
    "%%capture\n",
    "\n",
    "grid3_relations = pyphi.relations.relations(grid3_phi_structure.distinctions)\n",
    "with open('data/relations/relations_grid3.json', mode=\"wt\") as f:\n",
    "        jsonify.dump(grid3_relations, f)\n",
    "with open('data/relations/relations_grid3.json', mode=\"rt\") as f:\n",
    "        grid3_relations_loaded = jsonify.load(f)\n",
    "\n",
    "basic_relations = pyphi.relations.relations(basic_phi_structure.distinctions)\n",
    "with open('data/relations/relations_basic.json', mode=\"wt\") as f:\n",
    "        jsonify.dump(basic_relations, f)\n",
    "with open('data/relations/relations_basic.json', mode=\"rt\") as f:\n",
    "        basic_relations_loaded = jsonify.load(f)\n",
    "\n",
    "xor_relations = pyphi.relations.relations(xor_phi_structure.distinctions)\n",
    "with open('data/relations/relations_xor.json', mode=\"wt\") as f:\n",
    "        jsonify.dump(xor_relations, f)\n",
    "with open('data/relations/relations_xor.json', mode=\"rt\") as f:\n",
    "        xor_relations_loaded = jsonify.load(f)\n",
    "\n",
    "rule110_relations = pyphi.relations.relations(rule110_phi_structure.distinctions)\n",
    "with open('data/relations/relations_rule110.json', mode=\"wt\") as f:\n",
    "        jsonify.dump(rule110_relations, f)\n",
    "with open('data/relations/relations_rule110.json', mode=\"rt\") as f:\n",
    "        rule110_relations_loaded = jsonify.load(f)\n",
    "\n",
    "fig4_relations = pyphi.relations.relations(fig4_phi_structure.distinctions)\n",
    "with open('data/relations/relations_fig4.json', mode=\"wt\") as f:\n",
    "        jsonify.dump(fig4_relations, f)\n",
    "with open('data/relations/relations_fig4.json', mode=\"rt\") as f:\n",
    "        fig4_relations_loaded = jsonify.load(f)"
   ]
  },
  {
   "cell_type": "code",
   "execution_count": 18,
   "id": "17c05919-baa3-43a4-b0a1-de4e0c644b8b",
   "metadata": {},
   "outputs": [],
   "source": [
    "assert grid3_relations == grid3_relations_loaded\n",
    "assert basic_relations == basic_relations_loaded\n",
    "assert xor_relations == xor_relations_loaded\n",
    "assert rule110_relations == rule110_relations_loaded\n",
    "assert fig4_relations == fig4_relations_loaded"
   ]
  },
  {
   "cell_type": "code",
   "execution_count": 19,
   "id": "969149a7-3310-4ab0-8c57-a32c213609df",
   "metadata": {},
   "outputs": [
    {
     "data": {
      "application/vnd.jupyter.widget-view+json": {
       "model_id": "c0405bfe7f9840579cd86c37a912dc29",
       "version_major": 2,
       "version_minor": 0
      },
      "text/plain": [
       "Evaluating partitions: 0it [00:00, ?it/s]"
      ]
     },
     "metadata": {},
     "output_type": "display_data"
    },
    {
     "data": {
      "application/vnd.jupyter.widget-view+json": {
       "model_id": "ac3fdbc076074236b2545c456dd15388",
       "version_major": 2,
       "version_minor": 0
      },
      "text/plain": [
       "Evaluating partitions: 0it [00:00, ?it/s]"
      ]
     },
     "metadata": {},
     "output_type": "display_data"
    },
    {
     "data": {
      "application/vnd.jupyter.widget-view+json": {
       "model_id": "df4c10f356c048729dad7b53191a1892",
       "version_major": 2,
       "version_minor": 0
      },
      "text/plain": [
       "Evaluating partitions: 0it [00:00, ?it/s]"
      ]
     },
     "metadata": {},
     "output_type": "display_data"
    },
    {
     "data": {
      "application/vnd.jupyter.widget-view+json": {
       "model_id": "e25b7b9ca6e04ad0857c6b814210525d",
       "version_major": 2,
       "version_minor": 0
      },
      "text/plain": [
       "Evaluating partitions: 0it [00:00, ?it/s]"
      ]
     },
     "metadata": {},
     "output_type": "display_data"
    },
    {
     "data": {
      "application/vnd.jupyter.widget-view+json": {
       "model_id": "884dff0037f147ee9087e9ce050bc341",
       "version_major": 2,
       "version_minor": 0
      },
      "text/plain": [
       "Evaluating partitions: 0it [00:00, ?it/s]"
      ]
     },
     "metadata": {},
     "output_type": "display_data"
    },
    {
     "data": {
      "application/vnd.jupyter.widget-view+json": {
       "model_id": "db05966535844147affad8708eff5ca3",
       "version_major": 2,
       "version_minor": 0
      },
      "text/plain": [
       "Evaluating partitions: 0it [00:00, ?it/s]"
      ]
     },
     "metadata": {},
     "output_type": "display_data"
    },
    {
     "data": {
      "application/vnd.jupyter.widget-view+json": {
       "model_id": "5e65919146d04435a507c621cc211674",
       "version_major": 2,
       "version_minor": 0
      },
      "text/plain": [
       "Evaluating partitions: 0it [00:00, ?it/s]"
      ]
     },
     "metadata": {},
     "output_type": "display_data"
    }
   ],
   "source": [
    "import example_networks\n",
    "\n",
    "s = pyphi.examples.basic_subsystem()\n",
    "s_noised = example_networks.s_noised()\n",
    "micro_s = example_networks.micro_s()\n",
    "big = example_networks.big_subsys_all_complete()\n",
    "big_03 = example_networks.big_subsys_0_thru_3()\n",
    "rule152 = example_networks.rule152_s()\n",
    "macro = example_networks.macro_s()\n",
    "\n",
    "s_sia = s.sia()\n",
    "s_noised_sia = s_noised.sia()\n",
    "micro_s_sia = micro_s.sia()\n",
    "big_sia = big.sia()\n",
    "big_03_sia = big_03.sia()\n",
    "rule152_sia = rule152.sia()\n",
    "macro_sia = macro.sia()"
   ]
  },
  {
   "cell_type": "code",
   "execution_count": 20,
   "id": "d7c6ec99-6d8a-47cb-9415-5e0bb0733d6f",
   "metadata": {},
   "outputs": [],
   "source": [
    "with open('data/sia/s.json', mode='wt') as f:\n",
    "    jsonify.dump(s_sia, f)\n",
    "with open(\"./data/sia/s.json\") as f:\n",
    "    s_loaded = jsonify.load(f)\n",
    "\n",
    "\n",
    "with open('data/sia/s_noised.json', mode='wt') as f:\n",
    "    jsonify.dump(s_noised_sia, f)\n",
    "with open(\"./data/sia/s_noised.json\") as f:\n",
    "    s_noised_loaded = jsonify.load(f)\n",
    "\n",
    "\n",
    "with open('data/sia/micro_s.json', mode='wt') as f:\n",
    "    jsonify.dump(micro_s_sia, f)\n",
    "with open(\"./data/sia/micro_s.json\") as f:\n",
    "    micro_s_loaded = jsonify.load(f)\n",
    "\n",
    "\n",
    "with open('data/sia/big_subsys_all_complete.json', mode='wt') as f:\n",
    "    jsonify.dump(big_sia, f)\n",
    "with open(\"./data/sia/big_subsys_all_complete.json\") as f:\n",
    "    big_loaded = jsonify.load(f)\n",
    "\n",
    "\n",
    "with open('data/sia/big_subsys_0_thru_3.json', mode='wt') as f:\n",
    "    jsonify.dump(big_03_sia, f)\n",
    "with open(\"./data/sia/big_subsys_0_thru_3.json\") as f:\n",
    "    big_03_loaded = jsonify.load(f)\n",
    "\n",
    "\n",
    "with open('data/sia/rule152_s.json', mode='wt') as f:\n",
    "    jsonify.dump(rule152_sia, f)\n",
    "with open(\"./data/sia/rule152_s.json\") as f:\n",
    "    rule152_loaded = jsonify.load(f)\n",
    "\n",
    "\n",
    "with open('data/sia/macro_s.json', mode='wt') as f:\n",
    "    jsonify.dump(macro_sia, f)\n",
    "with open(\"./data/sia/macro_s.json\") as f:\n",
    "    macro_loaded = jsonify.load(f)"
   ]
  },
  {
   "cell_type": "code",
   "execution_count": 21,
   "id": "59b26d44-7c9d-4a4d-a88d-de34cec64fd9",
   "metadata": {},
   "outputs": [],
   "source": [
    "assert s_sia == s_loaded\n",
    "assert s_noised_sia == s_noised_loaded\n",
    "assert micro_s_sia == micro_s_loaded\n",
    "assert big_sia == big_loaded\n",
    "assert big_03_sia == big_03_loaded\n",
    "assert rule152_sia == rule152_loaded\n",
    "assert macro_sia == macro_loaded"
   ]
  },
  {
   "cell_type": "code",
   "execution_count": null,
   "id": "b4d3a70e-592c-4426-9683-12af3d3814b8",
   "metadata": {},
   "outputs": [],
   "source": []
  }
 ],
 "metadata": {
  "colab": {
   "provenance": [],
   "toc_visible": true
  },
  "gpuClass": "standard",
  "kernelspec": {
   "display_name": "Python 3 (ipykernel)",
   "language": "python",
   "name": "python3"
  },
  "language_info": {
   "codemirror_mode": {
    "name": "ipython",
    "version": 3
   },
   "file_extension": ".py",
   "mimetype": "text/x-python",
   "name": "python",
   "nbconvert_exporter": "python",
   "pygments_lexer": "ipython3",
   "version": "3.10.14"
  },
  "name": "IIT_4.0_demo.2.ipynb"
 },
 "nbformat": 4,
 "nbformat_minor": 5
}
